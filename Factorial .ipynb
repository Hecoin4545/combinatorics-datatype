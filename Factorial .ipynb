{
 "cells": [
  {
   "cell_type": "code",
   "execution_count": 51,
   "id": "2f7f5101",
   "metadata": {},
   "outputs": [
    {
     "name": "stdout",
     "output_type": "stream",
     "text": [
      "Hello Welcome To Hecoin.\n",
      "60.0\n"
     ]
    }
   ],
   "source": [
    "class Combinatorics:\n",
    "    def __init__(self):\n",
    "        print('Hello Welcome To Hecoin.')\n",
    "\n",
    "    def factorial(self , a):\n",
    "        x = 1\n",
    "        for i in range(1 , a+1):\n",
    "            x = x * i\n",
    "        print(x)\n",
    "       \n",
    "    def permutation(self , a ,b  ):\n",
    "        if a<b:\n",
    "            print('Permutation Cant be done')\n",
    "        else:\n",
    "            x = 1\n",
    "            y = 1\n",
    "            for i in range(1 , a+1):\n",
    "                x = x * i\n",
    "            for i in range(1 , (a-b)+1):\n",
    "                y = y * i                \n",
    "            print(x/y)\n",
    "            \n",
    "    def combination(self , a , b):\n",
    "        if a<b:\n",
    "            print('Combination cant be done')\n",
    "        else:\n",
    "            x = 1\n",
    "            y = 1\n",
    "            z = 1\n",
    "            for i in range(1 , a+1):\n",
    "                x = x * i\n",
    "            for i in range(1 , (a-b)+1):\n",
    "                y = y * i\n",
    "            for i in range(1 , b+1):\n",
    "                z = z * i\n",
    "            print(x/(y*z))\n",
    "    \n",
    "    def diagnol_in_n_sided_polygon(self , a):\n",
    "        x = 1\n",
    "        y = 1\n",
    "        z = 1\n",
    "        for i in range(1 , a+1):\n",
    "            x = x * i\n",
    "        for i in range(1 , (a-2)+1):\n",
    "            y = y * i\n",
    "        for i in range(1 , 3):\n",
    "            z = z * i\n",
    "        print((x/(y*z)) - a)\n",
    "    \n",
    "    def permutation_of_words(self , a):\n",
    "        x = 1\n",
    "        y = 1\n",
    "        z = 1\n",
    "        for i in range(1 , len(a)+1):\n",
    "            x = x * i\n",
    "        b = list(a)\n",
    "        c = b.sort()\n",
    "        d = set(b)\n",
    "        e = list(d)\n",
    "        for j in e:\n",
    "            f = b.count(j)\n",
    "            y = y*f\n",
    "        for k in range(1 , y+1):\n",
    "            z = z * k\n",
    "        print(x/z)\n",
    "        \n",
    "    def triangles_one_side_common_in_n_sided_polygon(self , a):\n",
    "        print(a*(a-4))\n",
    "        \n",
    "    def triangles_two_side_common_in_n_sided_polygon(self,a):\n",
    "        print(a*a)\n",
    "        \n",
    "    def total_rectangles(self , a , b):\n",
    "#         for vertical lines \n",
    "        x = 1\n",
    "        y = 1\n",
    "        z = 1\n",
    "        for i in range(1 , a+1):\n",
    "            x = x * i\n",
    "        for i in range(1 , (a-2)+1):\n",
    "            y = y * i\n",
    "        for i in range(1 , 2+1):\n",
    "            z = z * i\n",
    "        q = x/(y*z)\n",
    "        \n",
    "#         for horizontal lines \n",
    "        j = 1\n",
    "        k = 1\n",
    "        l = 1\n",
    "        for i in range(1 , b+1):\n",
    "            j = j * i\n",
    "        for i in range(1 , (b-2)+1):\n",
    "            k = k * i\n",
    "        for i in range(1 , 2+1):\n",
    "            l = l * i\n",
    "        w = j/(k*l)\n",
    "        \n",
    "        print(q*w)\n",
    "        \n",
    "        \n",
    "het = Combinatorics()\n"
   ]
  },
  {
   "cell_type": "code",
   "execution_count": 98,
   "id": "7c7852c5",
   "metadata": {},
   "outputs": [
    {
     "name": "stdout",
     "output_type": "stream",
     "text": [
      "3\n",
      "1\n",
      "1\n",
      "1\n"
     ]
    },
    {
     "data": {
      "text/plain": [
       "6"
      ]
     },
     "execution_count": 98,
     "metadata": {},
     "output_type": "execute_result"
    }
   ],
   "source": [
    "a = 'aakash'\n",
    "\n",
    "len(a)"
   ]
  },
  {
   "cell_type": "code",
   "execution_count": null,
   "id": "c5c067fb",
   "metadata": {},
   "outputs": [],
   "source": []
  }
 ],
 "metadata": {
  "kernelspec": {
   "display_name": "Python 3 (ipykernel)",
   "language": "python",
   "name": "python3"
  },
  "language_info": {
   "codemirror_mode": {
    "name": "ipython",
    "version": 3
   },
   "file_extension": ".py",
   "mimetype": "text/x-python",
   "name": "python",
   "nbconvert_exporter": "python",
   "pygments_lexer": "ipython3",
   "version": "3.9.13"
  }
 },
 "nbformat": 4,
 "nbformat_minor": 5
}
